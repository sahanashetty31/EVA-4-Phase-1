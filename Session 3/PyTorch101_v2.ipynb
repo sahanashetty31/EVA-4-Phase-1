{
  "nbformat": 4,
  "nbformat_minor": 0,
  "metadata": {
    "colab": {
      "name": "PyTorch101 v2.ipynb",
      "provenance": []
    },
    "kernelspec": {
      "name": "python3",
      "display_name": "Python 3"
    }
  },
  "cells": [
    {
      "cell_type": "markdown",
      "metadata": {
        "id": "_kYM3ylzYo1Q",
        "colab_type": "text"
      },
      "source": [
        "![PyTorch](https://devblogs.nvidia.com/wp-content/uploads/2017/04/pytorch-logo-dark.png)\n",
        "\n",
        "An open source machine learning framework that accelerates the path from research prototyping to production deployment.\n",
        "\n"
      ]
    },
    {
      "cell_type": "markdown",
      "metadata": {
        "id": "WcVqSTrWY6oz",
        "colab_type": "text"
      },
      "source": [
        "# Tensor - Pytorch's core data structure\n",
        "\n",
        "In Python we can create lists, lists of lists, lists of lists and so on. In NumPy there is a `numpy.ndarray` which represents `n`- dimensional array. In math there is a special name for the generalization of vectors and matrices to a higher dimensional space - a tensor\n",
        "\n",
        "Tensor is an entity with a defined number of dimensions called an order (rank). \n",
        "\n",
        "**Scalar** can be considered as a rank-0-tensor. \n",
        "\n",
        "**Vector** can be introduced as a rank-1-tensor. \n",
        "\n",
        "**Matrices** can be considered as a rank-2-tensor.\n",
        "\n",
        "# Tensor Basics\n",
        "\n",
        "Let's import the torch module first."
      ]
    },
    {
      "cell_type": "code",
      "metadata": {
        "id": "e-oFVL2tYYqp",
        "colab_type": "code",
        "colab": {}
      },
      "source": [
        "import numpy as np\n",
        "import torch"
      ],
      "execution_count": 0,
      "outputs": []
    },
    {
      "cell_type": "markdown",
      "metadata": {
        "id": "uGxuR5IEaFJa",
        "colab_type": "text"
      },
      "source": [
        "## Tensor Creation\n",
        "Let's view examples of matrices and tensors generation\n",
        "\n",
        "2-dimensional (rank-2) tensor of zeros:"
      ]
    },
    {
      "cell_type": "code",
      "metadata": {
        "id": "897JQc25aD3E",
        "colab_type": "code",
        "outputId": "83b94e72-3c4f-49e0-c658-ed5fd1ffb8fa",
        "colab": {
          "base_uri": "https://localhost:8080/",
          "height": 73
        }
      },
      "source": [
        "torch.zeros(3, 4)"
      ],
      "execution_count": 3,
      "outputs": [
        {
          "output_type": "execute_result",
          "data": {
            "text/plain": [
              "tensor([[0., 0., 0., 0.],\n",
              "        [0., 0., 0., 0.],\n",
              "        [0., 0., 0., 0.]])"
            ]
          },
          "metadata": {
            "tags": []
          },
          "execution_count": 3
        }
      ]
    },
    {
      "cell_type": "markdown",
      "metadata": {
        "id": "pujmpEBhaPRA",
        "colab_type": "text"
      },
      "source": [
        "Random rank-3 tensor:\n",
        "_read the print below and convince yourself how this is a rank-3-tensor and learn what those 2, 3, 4 values are there for_"
      ]
    },
    {
      "cell_type": "code",
      "metadata": {
        "id": "mBrznTNhaOL7",
        "colab_type": "code",
        "outputId": "8be7809f-726b-427b-bb56-2f6eac41f661",
        "colab": {
          "base_uri": "https://localhost:8080/",
          "height": 148
        }
      },
      "source": [
        "torch.rand(2, 3, 4)"
      ],
      "execution_count": 4,
      "outputs": [
        {
          "output_type": "execute_result",
          "data": {
            "text/plain": [
              "tensor([[[0.8633, 0.0351, 0.0356, 0.4769],\n",
              "         [0.7984, 0.4621, 0.3610, 0.5837],\n",
              "         [0.0227, 0.3983, 0.4871, 0.6070]],\n",
              "\n",
              "        [[0.0060, 0.7988, 0.3552, 0.7144],\n",
              "         [0.5196, 0.6797, 0.6555, 0.2662],\n",
              "         [0.0777, 0.9751, 0.8328, 0.7327]]])"
            ]
          },
          "metadata": {
            "tags": []
          },
          "execution_count": 4
        }
      ]
    },
    {
      "cell_type": "markdown",
      "metadata": {
        "id": "kO4fIr15asdi",
        "colab_type": "text"
      },
      "source": [
        "I am hoping you have noticed 4-elements in a row, 3 rows making one block and there are 2 blocks. \n",
        "\n",
        "Random rank-4-tensor:"
      ]
    },
    {
      "cell_type": "code",
      "metadata": {
        "id": "KiCLvMGCaVZ3",
        "colab_type": "code",
        "outputId": "15a0d487-0ee6-4a61-b237-165d11752121",
        "colab": {
          "base_uri": "https://localhost:8080/",
          "height": 241
        }
      },
      "source": [
        "torch.rand(2, 2, 2, 3)"
      ],
      "execution_count": 5,
      "outputs": [
        {
          "output_type": "execute_result",
          "data": {
            "text/plain": [
              "tensor([[[[0.7588, 0.8830, 0.2173],\n",
              "          [0.4045, 0.4544, 0.1416]],\n",
              "\n",
              "         [[0.3084, 0.2952, 0.3539],\n",
              "          [0.4901, 0.8608, 0.7721]]],\n",
              "\n",
              "\n",
              "        [[[0.2425, 0.3691, 0.6346],\n",
              "          [0.2070, 0.1839, 0.7949]],\n",
              "\n",
              "         [[0.9080, 0.9969, 0.2724],\n",
              "          [0.8381, 0.0966, 0.2080]]]])"
            ]
          },
          "metadata": {
            "tags": []
          },
          "execution_count": 5
        }
      ]
    },
    {
      "cell_type": "markdown",
      "metadata": {
        "id": "lF6VL68s3AMV",
        "colab_type": "text"
      },
      "source": [
        "## Question 1:\n",
        "\n",
        "How many dimensions are there in a tensor defined as below?"
      ]
    },
    {
      "cell_type": "code",
      "metadata": {
        "id": "8IbXcI3x3Ibt",
        "colab_type": "code",
        "outputId": "60f5b2b4-8204-4274-c972-7a45277a0e4a",
        "colab": {
          "base_uri": "https://localhost:8080/",
          "height": 36
        }
      },
      "source": [
        "torch.rand(1, 1, 1, 1)"
      ],
      "execution_count": 6,
      "outputs": [
        {
          "output_type": "execute_result",
          "data": {
            "text/plain": [
              "tensor([[[[0.4192]]]])"
            ]
          },
          "metadata": {
            "tags": []
          },
          "execution_count": 6
        }
      ]
    },
    {
      "cell_type": "markdown",
      "metadata": {
        "id": "yhtDa0Sm5PXG",
        "colab_type": "text"
      },
      "source": [
        "**Solution 1** : 4"
      ]
    },
    {
      "cell_type": "markdown",
      "metadata": {
        "id": "qmgpqssRa9jF",
        "colab_type": "text"
      },
      "source": [
        ".\n",
        "\n",
        "---\n",
        "\n",
        "\n",
        "There are many more ways to create tensor using some restrictions on values it should contatn - for the full reference, please follow the [official docs](https://pytorch.org/docs/stable/torch.html#creation-ops). \n",
        "\n",
        "\n",
        ".\n",
        "---\n",
        "\n",
        "\n",
        "# Python / NumPy / Pytorch interoperability\n",
        "\n",
        "You can create tensors from python as well as numpy arrays. You can also convert torch tensors to numpy arrays. So, the interoperability between torch and numpy is pretty good. "
      ]
    },
    {
      "cell_type": "code",
      "metadata": {
        "id": "ipgpeWPfa6gE",
        "colab_type": "code",
        "outputId": "798342e1-5894-4761-969c-964b26e071fc",
        "colab": {
          "base_uri": "https://localhost:8080/",
          "height": 129
        }
      },
      "source": [
        "# Simple Python List\n",
        "python_list = [1, 2]\n",
        "\n",
        "# Create a numpy array from python list\n",
        "numpy_array = np.array(python_list)\n",
        "\n",
        "# Create a torch Tensor from python list\n",
        "tensor_from_list = torch.tensor(python_list)\n",
        "\n",
        "# Create a torch Tensor from Numpy array\n",
        "tensor_from_array = torch.tensor(numpy_array)\n",
        "\n",
        "# Another way to create a torch Tensor from Numpy array (share same storage)\n",
        "tensor_from_array_v2 = torch.from_numpy(numpy_array)\n",
        "\n",
        "# Convert torch tensor to numpy array\n",
        "array_from_tensor = tensor_from_array.numpy()\n",
        "\n",
        "print('List:   ', python_list)\n",
        "print('Array:  ', numpy_array)\n",
        "print('Tensor: ', tensor_from_list)\n",
        "print('Tensor: ', tensor_from_array)\n",
        "print('Tensor: ', tensor_from_array_v2)\n",
        "print('Array:  ', array_from_tensor)"
      ],
      "execution_count": 7,
      "outputs": [
        {
          "output_type": "stream",
          "text": [
            "List:    [1, 2]\n",
            "Array:   [1 2]\n",
            "Tensor:  tensor([1, 2])\n",
            "Tensor:  tensor([1, 2])\n",
            "Tensor:  tensor([1, 2])\n",
            "Array:   [1 2]\n"
          ],
          "name": "stdout"
        }
      ]
    },
    {
      "cell_type": "markdown",
      "metadata": {
        "id": "X_x-86B8gqik",
        "colab_type": "text"
      },
      "source": [
        "**Difference between** `torch.Tensor` **and** `torch.from_numpy`\n",
        "\n",
        "Pytorch aims to be an effective library for computations. What does it mean? It means that pytorch avoids memory copying if it can. "
      ]
    },
    {
      "cell_type": "code",
      "metadata": {
        "id": "eHCKDGpygn_d",
        "colab_type": "code",
        "outputId": "3c476488-efa6-4287-ee81-55ee01aa3813",
        "colab": {
          "base_uri": "https://localhost:8080/",
          "height": 73
        }
      },
      "source": [
        "numpy_array[0] = 10\n",
        "\n",
        "print('Array:  ', numpy_array)\n",
        "print('Tensor: ', tensor_from_array)\n",
        "print('Tensor: ', tensor_from_array_v2)"
      ],
      "execution_count": 8,
      "outputs": [
        {
          "output_type": "stream",
          "text": [
            "Array:   [10  2]\n",
            "Tensor:  tensor([1, 2])\n",
            "Tensor:  tensor([10,  2])\n"
          ],
          "name": "stdout"
        }
      ]
    },
    {
      "cell_type": "markdown",
      "metadata": {
        "id": "-CKtdNRM3SMp",
        "colab_type": "text"
      },
      "source": [
        "## Question 2:\n",
        "\n",
        "Assume that we moved our complete (cats vs dogs) image dataset to numpy arrays. Then we use torch.from_numpy to convert these images to tensor. Then we apply a specific data augmentation strategy called \"CutOut\" which blocks a portion of the image directly on these tensors. What will happen to the accuracy of a model trained on this strategy compared to the one without this strategy? CutOut strategy is shown below: \n",
        "\n",
        "![CutOut](https://encrypted-tbn0.gstatic.com/images?q=tbn%3AANd9GcSnSyN835AmtQPKQbPjDHX-FmshNilbtexX95cRGQPwl56QCGDn)\n",
        "\n",
        "## Question 3:\n",
        "Why do you think we are observing this behavior?\n",
        "\n",
        "\n",
        "\n",
        "---\n",
        "\n",
        "\n"
      ]
    },
    {
      "cell_type": "markdown",
      "metadata": {
        "id": "Jtg9J90_5oyZ",
        "colab_type": "text"
      },
      "source": [
        "**Solution 2** : The model will not train."
      ]
    },
    {
      "cell_type": "markdown",
      "metadata": {
        "id": "9f-NKFXp5VXO",
        "colab_type": "text"
      },
      "source": [
        "**Solution 3** : Adding black boxes will reduce accuracy."
      ]
    },
    {
      "cell_type": "markdown",
      "metadata": {
        "id": "dZq7O-aihSOA",
        "colab_type": "text"
      },
      "source": [
        "We have two different ways to create tensor from its NumPy counterpart - one copies memory and another one shares the same underlying storage. It works in the opposite way:"
      ]
    },
    {
      "cell_type": "code",
      "metadata": {
        "id": "TNFOwV8EhPwQ",
        "colab_type": "code",
        "outputId": "492b888c-8de4-49be-bd9d-988fbf535701",
        "colab": {
          "base_uri": "https://localhost:8080/",
          "height": 92
        }
      },
      "source": [
        "array_from_tensor = tensor_from_array.numpy()\n",
        "print('Tensor: ', tensor_from_array)\n",
        "print('Array: ', array_from_tensor)\n",
        "\n",
        "tensor_from_array[0] = 11\n",
        "print('Tensor: ', tensor_from_array)\n",
        "print('Array: ', array_from_tensor)"
      ],
      "execution_count": 9,
      "outputs": [
        {
          "output_type": "stream",
          "text": [
            "Tensor:  tensor([1, 2])\n",
            "Array:  [1 2]\n",
            "Tensor:  tensor([11,  2])\n",
            "Array:  [11  2]\n"
          ],
          "name": "stdout"
        }
      ]
    },
    {
      "cell_type": "markdown",
      "metadata": {
        "id": "UM9ytbvKhtCw",
        "colab_type": "text"
      },
      "source": [
        "## Data types\n",
        "\n",
        "The basic data type of all Deep Learning-related operations is float, but sometimes you may need something else. Pytorch support different number types for its tensors the same way NumPy does it - by specifying the data type on tensor creation or via casting. Ths full list of supported data types can be found [here](https://pytorch.org/docs/stable/tensors.html). "
      ]
    },
    {
      "cell_type": "code",
      "metadata": {
        "id": "Bd6WkzJ4hpYi",
        "colab_type": "code",
        "outputId": "e89c4fb2-d9d8-4a20-f260-2509ff41e0ce",
        "colab": {
          "base_uri": "https://localhost:8080/",
          "height": 0
        }
      },
      "source": [
        "tensor = torch.zeros(2, 2)\n",
        "print('Tensor with default type: ', tensor)\n",
        "tensor = torch.ones(2, 2, dtype=torch.float16)\n",
        "print('Tensor with 16-bit float: ', tensor)\n",
        "tensor = torch.zeros(2, 2, dtype=torch.int16)\n",
        "print('Tensor with integers: ', tensor)\n",
        "tensor = torch.zeros(2, 2, dtype=torch.bool)\n",
        "print('Tensor with boolean data: ', tensor)"
      ],
      "execution_count": 10,
      "outputs": [
        {
          "output_type": "stream",
          "text": [
            "Tensor with default type:  tensor([[0., 0.],\n",
            "        [0., 0.]])\n",
            "Tensor with 16-bit float:  tensor([[1., 1.],\n",
            "        [1., 1.]], dtype=torch.float16)\n",
            "Tensor with integers:  tensor([[0, 0],\n",
            "        [0, 0]], dtype=torch.int16)\n",
            "Tensor with boolean data:  tensor([[False, False],\n",
            "        [False, False]])\n"
          ],
          "name": "stdout"
        }
      ]
    },
    {
      "cell_type": "markdown",
      "metadata": {
        "id": "a9F4Dkdr40TE",
        "colab_type": "text"
      },
      "source": [
        "\n",
        "\n",
        "---\n",
        "\n",
        "\n",
        "## Question 4:\n",
        "We saw above that some times numpy and tensors share same storage and changing one changes the other. \n",
        "If we define a rank-2-tensor with ones (dtype of f16), and then convert it into a numpy data type using tensor.numpy() and store it in a variable called \"num\", and then we perform this operation `num = num * 0.5`, will the original tensor have 1.0s or 0.5s as its element values? \n"
      ]
    },
    {
      "cell_type": "markdown",
      "metadata": {
        "id": "x2rireaWakqB",
        "colab_type": "text"
      },
      "source": [
        "**Solution 4** : 1.0 s"
      ]
    },
    {
      "cell_type": "markdown",
      "metadata": {
        "id": "OiQt8Mmm51OE",
        "colab_type": "text"
      },
      "source": [
        "\n",
        "\n",
        "---\n",
        "\n",
        "## Question 5: \n",
        "If the operation `num = num*5` is changed to `num[:] = num*5` will the original tensor have 1.0s or 0.5s as its element values? \n",
        "\n",
        "\n",
        "\n",
        "---\n",
        "\n"
      ]
    },
    {
      "cell_type": "markdown",
      "metadata": {
        "id": "vzh8UB8KiVmb",
        "colab_type": "text"
      },
      "source": [
        "## Indexing\n",
        "\n",
        "Tensor provides access to its elements via the same `[]` operation as a regular python list or NumPy array. However, as you may recall from NumPy usage, the full power of math libraries is accessible only via vectorized operations, i.e. operations without explicit looping over all vector elements in python and using implicit optimized loops in C/C++/CUDA/Fortran/etc. available via special function calls. Pytorch employs the same paradigm and provides a wide range of vectorized operations. Let's take a look at some examples. \n",
        "\n",
        "Joining a list of tensors together with `torch.cat`"
      ]
    },
    {
      "cell_type": "code",
      "metadata": {
        "id": "GMaCDKPhiUAb",
        "colab_type": "code",
        "outputId": "5e0c3a3b-db1d-42d6-8f4e-b0f23909c8ec",
        "colab": {
          "base_uri": "https://localhost:8080/",
          "height": 129
        }
      },
      "source": [
        "a = torch.zeros(3, 2)\n",
        "b = torch.ones(3, 2)\n",
        "print(torch.cat((a, b), dim=0))"
      ],
      "execution_count": 11,
      "outputs": [
        {
          "output_type": "stream",
          "text": [
            "tensor([[0., 0.],\n",
            "        [0., 0.],\n",
            "        [0., 0.],\n",
            "        [1., 1.],\n",
            "        [1., 1.],\n",
            "        [1., 1.]])\n"
          ],
          "name": "stdout"
        }
      ]
    },
    {
      "cell_type": "code",
      "metadata": {
        "id": "TZ4ilF_7bOph",
        "colab_type": "code",
        "outputId": "38b4fc30-a97e-4bf6-e941-913b9c4bf9ad",
        "colab": {
          "base_uri": "https://localhost:8080/",
          "height": 73
        }
      },
      "source": [
        "a = torch.zeros(3, 2)\n",
        "b = torch.ones(3, 2)\n",
        "print(torch.cat((a, b), dim=1))"
      ],
      "execution_count": 12,
      "outputs": [
        {
          "output_type": "stream",
          "text": [
            "tensor([[0., 0., 1., 1.],\n",
            "        [0., 0., 1., 1.],\n",
            "        [0., 0., 1., 1.]])\n"
          ],
          "name": "stdout"
        }
      ]
    },
    {
      "cell_type": "markdown",
      "metadata": {
        "id": "5bj4aeE86zdH",
        "colab_type": "text"
      },
      "source": [
        "\n",
        "\n",
        "---\n",
        "\n",
        "## Question 6: \n",
        "Is the transpose of concatenated a & b tensor on dimension 1, same as the contatenated tensor of a & b on dimension 0? \n",
        "\n",
        "\n",
        "\n",
        "---\n",
        "\n"
      ]
    },
    {
      "cell_type": "markdown",
      "metadata": {
        "id": "0y5lJeg4bSvs",
        "colab_type": "text"
      },
      "source": [
        "**Solution 6** : False"
      ]
    },
    {
      "cell_type": "markdown",
      "metadata": {
        "id": "0TXNne69j7LP",
        "colab_type": "text"
      },
      "source": [
        "Indexing with another tenxor/array:"
      ]
    },
    {
      "cell_type": "code",
      "metadata": {
        "id": "KiE-Fsi4jVd6",
        "colab_type": "code",
        "outputId": "f923666e-0dd7-4898-dbba-05eb6b77ab68",
        "colab": {
          "base_uri": "https://localhost:8080/",
          "height": 110
        }
      },
      "source": [
        "a = torch.arange(start=0, end=10)\n",
        "indices = np.arange(0, 10) > 5\n",
        "print(a)\n",
        "print(indices)\n",
        "print(a[indices])\n",
        "\n",
        "indices = torch.arange(start=0, end=10) %5\n",
        "print(indices)\n",
        "print(a[indices])"
      ],
      "execution_count": 13,
      "outputs": [
        {
          "output_type": "stream",
          "text": [
            "tensor([0, 1, 2, 3, 4, 5, 6, 7, 8, 9])\n",
            "[False False False False False False  True  True  True  True]\n",
            "tensor([6, 7, 8, 9])\n",
            "tensor([0, 1, 2, 3, 4, 0, 1, 2, 3, 4])\n",
            "tensor([0, 1, 2, 3, 4, 0, 1, 2, 3, 4])\n"
          ],
          "name": "stdout"
        }
      ]
    },
    {
      "cell_type": "code",
      "metadata": {
        "id": "flVX6qcFlkN1",
        "colab_type": "code",
        "outputId": "96db0d61-a3b6-4c15-b0e2-7b1ab87bd138",
        "colab": {
          "base_uri": "https://localhost:8080/",
          "height": 129
        }
      },
      "source": [
        "a = torch.arange(start=0, end=10)\n",
        "indices = np.arange(0, 10) > 5\n",
        "print(a)\n",
        "print(indices)\n",
        "print(a[indices])\n",
        "\n",
        "b = torch.arange(start=5, end=10)\n",
        "indices = torch.arange(start=5, end=10) %5\n",
        "print(b)\n",
        "print(indices)\n",
        "print(b[indices])"
      ],
      "execution_count": 14,
      "outputs": [
        {
          "output_type": "stream",
          "text": [
            "tensor([0, 1, 2, 3, 4, 5, 6, 7, 8, 9])\n",
            "[False False False False False False  True  True  True  True]\n",
            "tensor([6, 7, 8, 9])\n",
            "tensor([5, 6, 7, 8, 9])\n",
            "tensor([0, 1, 2, 3, 4])\n",
            "tensor([5, 6, 7, 8, 9])\n"
          ],
          "name": "stdout"
        }
      ]
    },
    {
      "cell_type": "code",
      "metadata": {
        "id": "P8uHdp5YDEmv",
        "colab_type": "code",
        "colab": {
          "base_uri": "https://localhost:8080/",
          "height": 110
        },
        "outputId": "5297144b-211e-4dee-a67e-242bb9a0c8a5"
      },
      "source": [
        "a = torch.arange(start=0, end=10)\n",
        "indices = np.arange(0, 10) > 5\n",
        "print(a)\n",
        "print(indices)\n",
        "print(a[indices])\n",
        "\n",
        "b = torch.arange(start=1, end=11)\n",
        "indices = torch.arange(start=6, end=11) %5\n",
        "print(indices)\n",
        "print(b[indices])"
      ],
      "execution_count": 15,
      "outputs": [
        {
          "output_type": "stream",
          "text": [
            "tensor([0, 1, 2, 3, 4, 5, 6, 7, 8, 9])\n",
            "[False False False False False False  True  True  True  True]\n",
            "tensor([6, 7, 8, 9])\n",
            "tensor([1, 2, 3, 4, 0])\n",
            "tensor([2, 3, 4, 5, 1])\n"
          ],
          "name": "stdout"
        }
      ]
    },
    {
      "cell_type": "markdown",
      "metadata": {
        "id": "LS4dnlu47WQu",
        "colab_type": "text"
      },
      "source": [
        "\n",
        "\n",
        "---\n",
        "\n",
        "## Question 7:\n",
        "\n",
        "`a` is defined as `torch.arange(start=0, end=10)`. We will create `b` using the two operations as below. In both cases do we get the same value?\n",
        "\n",
        "\n",
        "1.   indices variable created by the modulo operation on arange between 0 and 10. Then a new varialble `b` is created from `a` using the last 5 elements of indices. \n",
        "2.   indices variable created by the modulo operation on arange betwenn 1 and 11. Then a new varialble `b` is created from `a` using the last 5 elements of indices. \n",
        "\n",
        "\n",
        "\n",
        "---\n",
        "\n",
        "\n"
      ]
    },
    {
      "cell_type": "markdown",
      "metadata": {
        "id": "eQ4ZCVsTk-KH",
        "colab_type": "text"
      },
      "source": [
        "What should we do if we have, say, rank-2-tensor and want to select only some rows?"
      ]
    },
    {
      "cell_type": "code",
      "metadata": {
        "id": "_GtRpotjkt1q",
        "colab_type": "code",
        "colab": {
          "base_uri": "https://localhost:8080/",
          "height": 148
        },
        "outputId": "70fc5005-ab5e-47f5-f906-cb85e913b4d3"
      },
      "source": [
        "tensor = torch.rand((5, 3))\n",
        "rows = torch.tensor([0, 2])\n",
        "print(tensor)\n",
        "tensor[rows]"
      ],
      "execution_count": 16,
      "outputs": [
        {
          "output_type": "stream",
          "text": [
            "tensor([[0.0693, 0.1996, 0.1232],\n",
            "        [0.8571, 0.2935, 0.6535],\n",
            "        [0.7674, 0.7217, 0.7602],\n",
            "        [0.0567, 0.6414, 0.9087],\n",
            "        [0.8658, 0.7142, 0.6599]])\n"
          ],
          "name": "stdout"
        },
        {
          "output_type": "execute_result",
          "data": {
            "text/plain": [
              "tensor([[0.0693, 0.1996, 0.1232],\n",
              "        [0.7674, 0.7217, 0.7602]])"
            ]
          },
          "metadata": {
            "tags": []
          },
          "execution_count": 16
        }
      ]
    },
    {
      "cell_type": "code",
      "metadata": {
        "id": "6KVy7ryHmO5J",
        "colab_type": "code",
        "colab": {
          "base_uri": "https://localhost:8080/",
          "height": 185
        },
        "outputId": "1fa4f3d5-8510-47b9-dbf9-4c110a1df979"
      },
      "source": [
        "tensor = torch.rand((6, 5))\n",
        "rows = torch.tensor([0, 2, 4])\n",
        "print(tensor)\n",
        "tensor[rows]"
      ],
      "execution_count": 17,
      "outputs": [
        {
          "output_type": "stream",
          "text": [
            "tensor([[0.4586, 0.2308, 0.1637, 0.7322, 0.3337],\n",
            "        [0.3793, 0.8536, 0.5909, 0.7853, 0.5305],\n",
            "        [0.4727, 0.9627, 0.4063, 0.9614, 0.3636],\n",
            "        [0.3792, 0.1427, 0.0118, 0.0518, 0.1210],\n",
            "        [0.9641, 0.7988, 0.5591, 0.9762, 0.9816],\n",
            "        [0.0288, 0.0108, 0.1289, 0.2801, 0.3069]])\n"
          ],
          "name": "stdout"
        },
        {
          "output_type": "execute_result",
          "data": {
            "text/plain": [
              "tensor([[0.4586, 0.2308, 0.1637, 0.7322, 0.3337],\n",
              "        [0.4727, 0.9627, 0.4063, 0.9614, 0.3636],\n",
              "        [0.9641, 0.7988, 0.5591, 0.9762, 0.9816]])"
            ]
          },
          "metadata": {
            "tags": []
          },
          "execution_count": 17
        }
      ]
    },
    {
      "cell_type": "code",
      "metadata": {
        "id": "3bVVEUjcn21Y",
        "colab_type": "code",
        "colab": {
          "base_uri": "https://localhost:8080/",
          "height": 185
        },
        "outputId": "2f63f205-1882-4d2f-c819-ac091f91f4d4"
      },
      "source": [
        "tensor = torch.rand((6, 5))\n",
        "rows = torch.tensor([0, 2, 4])\n",
        "torch.transpose(tensor, 0, 1)\n",
        "print(tensor)\n",
        "tensor[rows]"
      ],
      "execution_count": 18,
      "outputs": [
        {
          "output_type": "stream",
          "text": [
            "tensor([[0.0203, 0.0888, 0.9064, 0.2856, 0.5204],\n",
            "        [0.7611, 0.3651, 0.4171, 0.3373, 0.3095],\n",
            "        [0.5079, 0.4610, 0.4568, 0.0094, 0.9339],\n",
            "        [0.4198, 0.3429, 0.8035, 0.9654, 0.7390],\n",
            "        [0.4380, 0.8145, 0.0678, 0.7626, 0.6190],\n",
            "        [0.8060, 0.5689, 0.2349, 0.4880, 0.8920]])\n"
          ],
          "name": "stdout"
        },
        {
          "output_type": "execute_result",
          "data": {
            "text/plain": [
              "tensor([[0.0203, 0.0888, 0.9064, 0.2856, 0.5204],\n",
              "        [0.5079, 0.4610, 0.4568, 0.0094, 0.9339],\n",
              "        [0.4380, 0.8145, 0.0678, 0.7626, 0.6190]])"
            ]
          },
          "metadata": {
            "tags": []
          },
          "execution_count": 18
        }
      ]
    },
    {
      "cell_type": "markdown",
      "metadata": {
        "id": "zIJnr_N2_Qaf",
        "colab_type": "text"
      },
      "source": [
        "\n",
        "\n",
        "---\n",
        "\n",
        "## Question 8: \n",
        "\n",
        "Consider a tensor defined as `torch.rand((6, 5))`. Is the shape of the new tensor created by taking the 0th, 2nd and 4th row of the old tensor same as the shape of the a newer tensor created by taking the 0th, 2nd and 4th row of the old tensor after transposing it by operation `torch.transpose(tensor, 0, 1)` ?\n",
        "\n",
        "\n",
        "\n",
        "---\n",
        "\n",
        "\n"
      ]
    },
    {
      "cell_type": "markdown",
      "metadata": {
        "id": "1FoWGtfAoOYa",
        "colab_type": "text"
      },
      "source": [
        "**Solution 8** : False"
      ]
    },
    {
      "cell_type": "markdown",
      "metadata": {
        "id": "naDzFMkslU0b",
        "colab_type": "text"
      },
      "source": [
        "## Tensor Shapes\n",
        "\n",
        "Reshaping a tensor is a frequently used operation. We can change the shape of a tensor without the memory copying overhead. There are two methods for that: `reshape` and `view`. \n",
        "\n",
        "The difference is the following: \n",
        "\n",
        "\n",
        "*   view tries to return a tensor, and it shares the same memory with the original tensor. In case, if it cannot reuse the same memory due to [some reason](https://pytorch.org/docs/stable/tensors.html?highlight=view#torch.Tensor.view), it just fails. \n",
        "*   reshape always returns the tensor with the desired shape and tries to reuse the memory. If it cannot, it creates a copy\n",
        "\n",
        "Let's see with the help of an example:"
      ]
    },
    {
      "cell_type": "code",
      "metadata": {
        "id": "HClDkqLLlMJh",
        "colab_type": "code",
        "outputId": "eb42e54f-76b2-4f4f-fdad-fd622077aef8",
        "colab": {
          "base_uri": "https://localhost:8080/",
          "height": 185
        }
      },
      "source": [
        "tensor = torch.rand(2, 3, 4)\n",
        "print('Pointer to data: ', tensor.data_ptr())\n",
        "print('Shape: ', tensor.shape)\n",
        "\n",
        "reshaped = tensor.reshape(24)\n",
        "\n",
        "view = tensor.view(3, 2, 4)\n",
        "print('Reshaped tensor - pointer to data', reshaped.data_ptr())\n",
        "print('Reshaped tensor shape ', reshaped.shape)\n",
        "\n",
        "print('Viewed tensor - pointer to data', view.data_ptr())\n",
        "print('Viewed tensor shape ', view.shape)\n",
        "\n",
        "assert tensor.data_ptr() == view.data_ptr()\n",
        "\n",
        "assert np.all(np.equal(tensor.numpy().flat, reshaped.numpy().flat))\n",
        "\n",
        "print('Original stride: ', tensor.stride()) \n",
        "print('Reshaped stride: ', reshaped.stride())\n",
        "print('Viewed stride: ', view.stride())"
      ],
      "execution_count": 19,
      "outputs": [
        {
          "output_type": "stream",
          "text": [
            "Pointer to data:  93462400\n",
            "Shape:  torch.Size([2, 3, 4])\n",
            "Reshaped tensor - pointer to data 93462400\n",
            "Reshaped tensor shape  torch.Size([24])\n",
            "Viewed tensor - pointer to data 93462400\n",
            "Viewed tensor shape  torch.Size([3, 2, 4])\n",
            "Original stride:  (12, 4, 1)\n",
            "Reshaped stride:  (1,)\n",
            "Viewed stride:  (8, 4, 1)\n"
          ],
          "name": "stdout"
        }
      ]
    },
    {
      "cell_type": "markdown",
      "metadata": {
        "id": "jIN5jSppm4yC",
        "colab_type": "text"
      },
      "source": [
        "The basic rule about reshaping the tensor is definitely that you cannot change the total number of elements in it, so the product of all tensor's dimensions should always be the same. It gives us the ability to avoid specifying one dimension when reshaping the tensor - Pytorch can calculate it for us:"
      ]
    },
    {
      "cell_type": "code",
      "metadata": {
        "id": "e3D19ERFmzOl",
        "colab_type": "code",
        "outputId": "aef9cf72-62aa-4322-e216-780f9357efaa",
        "colab": {
          "base_uri": "https://localhost:8080/",
          "height": 73
        }
      },
      "source": [
        "print(tensor.reshape(3, 2, 4).shape)\n",
        "print(tensor.reshape(3, 2, -1).shape)\n",
        "print(tensor.reshape(3, -1, 4).shape)"
      ],
      "execution_count": 20,
      "outputs": [
        {
          "output_type": "stream",
          "text": [
            "torch.Size([3, 2, 4])\n",
            "torch.Size([3, 2, 4])\n",
            "torch.Size([3, 2, 4])\n"
          ],
          "name": "stdout"
        }
      ]
    },
    {
      "cell_type": "markdown",
      "metadata": {
        "id": "ObgCQKUiETak",
        "colab_type": "text"
      },
      "source": [
        "\n",
        "\n",
        "---\n",
        "\n",
        "\n",
        "## Question 9:\n",
        "\n",
        "Consider a tensor `a` created with [1, 2, 3] and [1, 2, 3] of size (2, 3) is reshaped with operation `.reshape(-1, 2)`. Also consider a tensor `b` created with [[2, 1]] and of size (1, 2), later operated with `view(2, -1)` operation. \n",
        "\n",
        "If we do a dot product of a and b (using `torch.mm`) and perform the sum of all the elements (using `torch.sum`) what do we get? (enter int value without any decimal point in the quiz)\n",
        "\n",
        "\n",
        "\n",
        "---\n",
        "\n"
      ]
    },
    {
      "cell_type": "code",
      "metadata": {
        "id": "L2mQ6TUDIq4z",
        "colab_type": "code",
        "outputId": "beb0edb2-e767-4374-f0b6-034961641fca",
        "colab": {
          "base_uri": "https://localhost:8080/",
          "height": 92
        }
      },
      "source": [
        "a = torch.rand(1, 2, 3)\n",
        "reshaped = a.reshape(-1, 2)\n",
        "b = torch.rand(2, 1)\n",
        "\n",
        "view = tensor.view(2, -1)\n",
        "\n",
        "c = torch.mm(reshaped, b)\n",
        "print(c)\n",
        "torch.sum(c)"
      ],
      "execution_count": 21,
      "outputs": [
        {
          "output_type": "stream",
          "text": [
            "tensor([[1.1879],\n",
            "        [0.2676],\n",
            "        [0.5617]])\n"
          ],
          "name": "stdout"
        },
        {
          "output_type": "execute_result",
          "data": {
            "text/plain": [
              "tensor(2.0172)"
            ]
          },
          "metadata": {
            "tags": []
          },
          "execution_count": 21
        }
      ]
    },
    {
      "cell_type": "markdown",
      "metadata": {
        "id": "mza7QPg3ndeV",
        "colab_type": "text"
      },
      "source": [
        "**Alternative ways to view tensors** - `expand` or `expand_as`.\n",
        "\n",
        "\n",
        "\n",
        "*   `expand` - requires the desired shape as an input\n",
        "*   `expand_as` - uses the shape of another tensor\n",
        "\n",
        "These operations \"repeat\" tensor's values along the specified axes without actually copying the data. \n",
        "\n",
        "As the documentation says, expand:\n",
        "\n",
        "\n",
        "> returns a new view of the self tensor with singleton dimensions expanded to a larger size. Tensor can be also expanded to a larger number of dimensions, and the new ones will be appended at the front. For the new dimensions, the size cannot be set to -1. \n",
        "\n",
        "**Use case:**\n",
        "\n",
        "\n",
        "\n",
        "*   index multi-channel tensor with single-channel mask - imagine a color image with 3 channels (RGB) and binary mask for the area of interest on that image. We cannot index the image with this kind of mask directly since the dimensions are different, but we can use `expand_as` operation to create a view of the mask that has the same dimensions as the image we want to apply it to, but has not copied the data. "
      ]
    },
    {
      "cell_type": "code",
      "metadata": {
        "id": "iz33E-V7nPQT",
        "colab_type": "code",
        "colab": {
          "base_uri": "https://localhost:8080/",
          "height": 597
        },
        "outputId": "66e5ad93-3b74-4926-aa7b-60084cf2254d"
      },
      "source": [
        "%matplotlib inline\n",
        "from matplotlib import pyplot as plt\n",
        "\n",
        "# Create a black image\n",
        "image = torch.zeros(size=(3, 256, 256), dtype=torch.int)\n",
        "\n",
        "# Leave the borders and make the rest of the image Green\n",
        "image[1, 18:256 - 18, 18:256 - 18] = 255\n",
        "\n",
        "# Create a mask of the same size\n",
        "mask = torch.zeros(size=(256, 256), dtype=torch.bool)\n",
        "\n",
        "# Assuming the green region in the original image is the Region of interest, change the mask to white for that area\n",
        "mask[18:256 - 18, 18:256 - 18] = 1\n",
        "\n",
        "# Create a view of the mask with the same dimensions as the original image\n",
        "mask_expanded = mask.expand_as(image)\n",
        "print(mask_expanded.shape)\n",
        "\n",
        "mask_np = mask_expanded.numpy().transpose(1, 2, 0) * 255\n",
        "image_np = image.numpy().transpose(1, 2, 0)\n",
        "\n",
        "fig, ax = plt.subplots(1, 2)\n",
        "ax[0].imshow(image_np)\n",
        "ax[1].imshow(mask_np)\n",
        "plt.show()\n",
        "\n",
        "image[0, mask] += 128\n",
        "fig, ax = plt.subplots(1, 2)\n",
        "ax[0].imshow(image_np)\n",
        "ax[1].imshow(mask_np)\n",
        "plt.show()\n",
        "\n",
        "image[mask_expanded] += 128\n",
        "image.clamp_(0, 255)\n",
        "fig, ax = plt.subplots(1, 2)\n",
        "ax[0].imshow(image_np)\n",
        "ax[1].imshow(mask_np)\n",
        "plt.show()"
      ],
      "execution_count": 22,
      "outputs": [
        {
          "output_type": "stream",
          "text": [
            "torch.Size([3, 256, 256])\n"
          ],
          "name": "stdout"
        },
        {
          "output_type": "display_data",
          "data": {
            "image/png": "[encoded data removed]",
            "text/plain": [
              "<Figure size 432x288 with 2 Axes>"
            ]
          },
          "metadata": {
            "tags": []
          }
        },
        {
          "output_type": "display_data",
          "data": {
            "image/png": "[encoded data removed]",
            "text/plain": [
              "<Figure size 432x288 with 2 Axes>"
            ]
          },
          "metadata": {
            "tags": []
          }
        },
        {
          "output_type": "display_data",
          "data": {
            "image/png": "[encoded data removed]",
            "text/plain": [
              "<Figure size 432x288 with 2 Axes>"
            ]
          },
          "metadata": {
            "tags": []
          }
        }
      ]
    },
    {
      "cell_type": "markdown",
      "metadata": {
        "id": "jiXBx0k3ptOI",
        "colab_type": "text"
      },
      "source": [
        "In the example above, one can also find a couple of useful tricks:\n",
        "\n",
        "\n",
        "*   `clamp` method and function is a Pytorch's analogue of NumPy's `clip` function\n",
        "*   many operations on tensors have in-place form, that does not return modified data, but change values in the tensor. The in-place version of the operation has trailing underscore according to Pytorch's naming convension - in the exmaple above it is `clamp_`\n",
        "*   tensors have the same indexing as Numpy's arrays - one can use `:` seperated range, negative indexes and so on.\n",
        "\n",
        "\n",
        ".\n",
        "\n",
        "\n",
        "---\n",
        "\n",
        "# Images and their representations\n",
        "\n",
        "Now, let's discuss images, their representations and how different Python librarties work with them. \n",
        "\n",
        "Probably, the most well-known library for image loading and simple processing is [Pillow](https://pillow.readthedocs.io/en/stable/). \n",
        "\n",
        "However, many people in deep learning area stick with OpenCV for image loading and processing with some usage of another libraries when it is justified by performance/functionality. This is because OpenCV is in general much faster than the other libraries. Here you can find a couple of benchmarks: \n",
        "\n",
        "*   https://www.kaggle.com/zfturbo/benchmark-2019-speed-of-image-reading\n",
        "*   https://github.com/albumentations-team/albumentations#benchmarking-results\n",
        "\n",
        "To sum up the benchmarks above, there are two most common image formats, PNG and JPEGs. If your data is in PNG format - use OpenCV to read it. If it is in JPEG - use libturbojpeg. For image processing, use OpenCV if possible. _We will be using PIL a lot along with these._\n",
        "\n",
        "As you will read the code from others, you may find out that some of them use Pillow/something else to read data. You should know, that color image representations in OpenCV and other libraries are different - OpenCV uses \"BGR\" channel order, while others use \"RGB\" one. \n",
        "\n",
        "To change \"BRG\" <-> \"RGB\" the only thing we need to do it to change channel order."
      ]
    },
    {
      "cell_type": "code",
      "metadata": {
        "id": "ZYv4sZMmpndu",
        "colab_type": "code",
        "outputId": "2cfd408a-876c-45fe-92a6-5e10198bf006",
        "colab": {
          "base_uri": "https://localhost:8080/",
          "height": 249
        }
      },
      "source": [
        "#!wget \"https://encrypted-tbn0.gstatic.com/images?q=tbn%3AANd9GcRCA40ftnscVzfV8ft8e7vIzQXfXeZdtco8nknJrfCUW6INI40U\" \n",
        "%matplotlib inline\n",
        "from matplotlib import pyplot as plt\n",
        "import cv2\n",
        "\n",
        "\n",
        "bgr_image = cv2.imread('mars.jpg') \n",
        "# remember to add your own image in case you run this block, if you want to use the same image, \n",
        "# download it from: https://encrypted-tbn0.gstatic.com/images?q=tbn%3AANd9GcRCA40ftnscVzfV8ft8e7vIzQXfXeZdtco8nknJrfCUW6INI40U\n",
        "rgb_image = bgr_image[..., ::-1]\n",
        "#rgb_image = cv2.cvtColor(bgr_image, cv2.COLOR_BGR2RGB)\n",
        "#b = cv2.cvtColor(b, cv2.COLOR_BGR2RGB)\n",
        "fig, ax = plt.subplots(1, 2)\n",
        "ax[0].imshow(bgr_image)\n",
        "ax[1].imshow(rgb_image)\n",
        "plt.show()"
      ],
      "execution_count": 23,
      "outputs": [
        {
          "output_type": "error",
          "ename": "TypeError",
          "evalue": "ignored",
          "traceback": [
            "\u001b[0;31m---------------------------------------------------------------------------\u001b[0m",
            "\u001b[0;31mTypeError\u001b[0m                                 Traceback (most recent call last)",
            "\u001b[0;32m<ipython-input-23-9e7481f689b4>\u001b[0m in \u001b[0;36m<module>\u001b[0;34m()\u001b[0m\n\u001b[1;32m      7\u001b[0m \u001b[0;31m# remember to add your own image in case you run this block, if you want to use the same image,\u001b[0m\u001b[0;34m\u001b[0m\u001b[0;34m\u001b[0m\u001b[0;34m\u001b[0m\u001b[0m\n\u001b[1;32m      8\u001b[0m \u001b[0;31m# download it from: https://encrypted-tbn0.gstatic.com/images?q=tbn%3AANd9GcRCA40ftnscVzfV8ft8e7vIzQXfXeZdtco8nknJrfCUW6INI40U\u001b[0m\u001b[0;34m\u001b[0m\u001b[0;34m\u001b[0m\u001b[0;34m\u001b[0m\u001b[0m\n\u001b[0;32m----> 9\u001b[0;31m \u001b[0mrgb_image\u001b[0m \u001b[0;34m=\u001b[0m \u001b[0mbgr_image\u001b[0m\u001b[0;34m[\u001b[0m\u001b[0;34m...\u001b[0m\u001b[0;34m,\u001b[0m \u001b[0;34m:\u001b[0m\u001b[0;34m:\u001b[0m\u001b[0;34m-\u001b[0m\u001b[0;36m1\u001b[0m\u001b[0;34m]\u001b[0m\u001b[0;34m\u001b[0m\u001b[0;34m\u001b[0m\u001b[0m\n\u001b[0m\u001b[1;32m     10\u001b[0m \u001b[0;31m#rgb_image = cv2.cvtColor(bgr_image, cv2.COLOR_BGR2RGB)\u001b[0m\u001b[0;34m\u001b[0m\u001b[0;34m\u001b[0m\u001b[0;34m\u001b[0m\u001b[0m\n\u001b[1;32m     11\u001b[0m \u001b[0;31m#b = cv2.cvtColor(b, cv2.COLOR_BGR2RGB)\u001b[0m\u001b[0;34m\u001b[0m\u001b[0;34m\u001b[0m\u001b[0;34m\u001b[0m\u001b[0m\n",
            "\u001b[0;31mTypeError\u001b[0m: 'NoneType' object is not subscriptable"
          ]
        }
      ]
    },
    {
      "cell_type": "markdown",
      "metadata": {
        "id": "yoi4TeNBGHle",
        "colab_type": "text"
      },
      "source": [
        "\n",
        "\n",
        "---\n",
        "\n",
        "## Question 10:\n",
        "\n",
        "Looking at the results above it can be said that the pixel values in the blue channels would be very small compared to red channel. True/False?\n",
        "\n",
        "\n",
        "---\n",
        "\n",
        "\n"
      ]
    },
    {
      "cell_type": "markdown",
      "metadata": {
        "id": "b3ugFd57zNwa",
        "colab_type": "text"
      },
      "source": [
        "# Autograd\n",
        "\n",
        "Pytorch supports automatic differentiation. The module which implements this is called **AutoGrad**. It calculates the gradients and keeps track in forward and backward passes. For primitive tensors, you need to enable or disable it using the `required_grad` flag. But, for advanced tensors, it is enabled by default"
      ]
    },
    {
      "cell_type": "code",
      "metadata": {
        "id": "VMOp4aiou6JR",
        "colab_type": "code",
        "colab": {
          "base_uri": "https://localhost:8080/",
          "height": 204
        },
        "outputId": "0955a44f-310e-4361-a48d-e80f8a348e16"
      },
      "source": [
        "a = torch.rand((3, 5), requires_grad = True)\n",
        "print(a)\n",
        "result = a * 5\n",
        "print(result)\n",
        "\n",
        "# grad can be implicitly created only for scalar outputs\n",
        "# so let's calculate the sum here so that the output becomes a scalar and we can apply a backward pass\n",
        "mean_result = result.sum()\n",
        "print(mean_result)\n",
        "# calculate gradient\n",
        "mean_result.backward()\n",
        "# print gradient of a\n",
        "print(a.grad)"
      ],
      "execution_count": 25,
      "outputs": [
        {
          "output_type": "stream",
          "text": [
            "tensor([[0.4474, 0.6234, 0.3400, 0.8661, 0.4040],\n",
            "        [0.9173, 0.5868, 0.0165, 0.7391, 0.8159],\n",
            "        [0.5807, 0.8385, 0.8075, 0.6546, 0.4713]], requires_grad=True)\n",
            "tensor([[1.7895, 2.4938, 1.3600, 3.4644, 1.6158],\n",
            "        [3.6692, 2.3473, 0.0661, 2.9563, 3.2636],\n",
            "        [2.3230, 3.3539, 3.2299, 2.6183, 1.8851]], grad_fn=<MulBackward0>)\n",
            "tensor(36.4362, grad_fn=<SumBackward0>)\n",
            "tensor([[4., 4., 4., 4., 4.],\n",
            "        [4., 4., 4., 4., 4.],\n",
            "        [4., 4., 4., 4., 4.]])\n"
          ],
          "name": "stdout"
        }
      ]
    },
    {
      "cell_type": "markdown",
      "metadata": {
        "id": "ym0Amk2IGfLx",
        "colab_type": "text"
      },
      "source": [
        "\n",
        "\n",
        "---\n",
        "\n",
        "## Question 11: \n",
        "\n",
        "Why the gradient of a is all 5s above?\n",
        "\n",
        "\n",
        "\n",
        "---\n",
        "\n"
      ]
    },
    {
      "cell_type": "markdown",
      "metadata": {
        "id": "ZTfigxQA_7yV",
        "colab_type": "text"
      },
      "source": [
        "**Solution 11** : Because result is defined as result = a * **5**"
      ]
    },
    {
      "cell_type": "markdown",
      "metadata": {
        "id": "7PDgGq2R0k7I",
        "colab_type": "text"
      },
      "source": [
        "As we see, Pytorch automagically calculated the gradient value for us. It looks to be the correct value - we multiplied an input by 5, so the gradient of this operation equals to 5.\n",
        "\n",
        "# Disabling Autograd for tensors\n",
        "\n",
        "We don't need to compute gradients for all the variables that are involved in the pipeline. The Pytorch API provides 2 ways to disable autograd.\n",
        "\n",
        "`detach` - returns a copy of the tensor with autograd disabled. This \n",
        "\n",
        "1.   copy is built on the same memory as the original tensor, so in-place size / stride / storage changes (such as resize_ / resizeas / set / transpose) modifications are not allowed.\n",
        "2.   torch.no_grad() - It is a context manager that allows you to guard a series of operations from autograd without creating new tensors."
      ]
    },
    {
      "cell_type": "code",
      "metadata": {
        "id": "yqVG9fQb0cLW",
        "colab_type": "code",
        "colab": {
          "base_uri": "https://localhost:8080/",
          "height": 73
        },
        "outputId": "b03aa8d4-f64d-4b83-f3de-046add20ddf6"
      },
      "source": [
        "a = torch.rand((3, 5), requires_grad=True)\n",
        "detached_a = a.detach()\n",
        "detached_result = detached_a * 5\n",
        "result = a * 10\n",
        "# we cannot do backward pass that is required for autograd using multideminsional output,\n",
        "# so let's calculate the sum here\n",
        "mean_result = result.sum()\n",
        "mean_result.backward()\n",
        "a.grad"
      ],
      "execution_count": 26,
      "outputs": [
        {
          "output_type": "execute_result",
          "data": {
            "text/plain": [
              "tensor([[10., 10., 10., 10., 10.],\n",
              "        [10., 10., 10., 10., 10.],\n",
              "        [10., 10., 10., 10., 10.]])"
            ]
          },
          "metadata": {
            "tags": []
          },
          "execution_count": 26
        }
      ]
    },
    {
      "cell_type": "code",
      "metadata": {
        "id": "uqpch2Be02J7",
        "colab_type": "code",
        "colab": {
          "base_uri": "https://localhost:8080/",
          "height": 73
        },
        "outputId": "b99c0b77-0a90-4c39-a7bd-37125a7fc4dc"
      },
      "source": [
        "a = torch.rand((3, 5), requires_grad=True)\n",
        "with torch.no_grad():\n",
        "    detached_result = a * 5\n",
        "result = a * 10\n",
        "# we cannot do backward pass that is required for autograd using multideminsional output,\n",
        "# so let's calculate the sum here\n",
        "mean_result = result.sum()\n",
        "mean_result.backward()\n",
        "a.grad"
      ],
      "execution_count": 27,
      "outputs": [
        {
          "output_type": "execute_result",
          "data": {
            "text/plain": [
              "tensor([[10., 10., 10., 10., 10.],\n",
              "        [10., 10., 10., 10., 10.],\n",
              "        [10., 10., 10., 10., 10.]])"
            ]
          },
          "metadata": {
            "tags": []
          },
          "execution_count": 27
        }
      ]
    },
    {
      "cell_type": "markdown",
      "metadata": {
        "id": "vjh2rYOPJUAZ",
        "colab_type": "text"
      },
      "source": [
        "# Custom Network\n",
        "\n",
        "A fully-connected ReLU network with one hidden layer and no biases, trained to predict y from x by minimizing squared Euclidean distance.\n",
        "\n",
        "This implementation uses PyTorch tensors to manually compute the forward pass, loss, and backward pass.\n",
        "\n",
        "A PyTorch Tensor is basically the same as a numpy array: it does not know anything about deep learning or computational graphs or gradients, and is just a generic n-dimensional array to be used for arbitrary numeric computation.\n",
        "\n",
        "The biggest difference between a numpy array and a PyTorch Tensor is that a PyTorch Tensor can run on either CPU or GPU. To run operations on the GPU, just cast the Tensor to a cuda datatype."
      ]
    },
    {
      "cell_type": "code",
      "metadata": {
        "id": "0nf5RaB104Vp",
        "colab_type": "code",
        "colab": {
          "base_uri": "https://localhost:8080/",
          "height": 1000
        },
        "outputId": "f7ee6cb1-cd81-4fc3-e6fc-f8ab491ec1d3"
      },
      "source": [
        "dtype = torch.float\n",
        "device = torch.device(\"cpu\")\n",
        "# device = torch.device(\"cuda:0\") # Uncomment this to run on GPU\n",
        "\n",
        "# N is batch size; D_in is input dimension;\n",
        "# H is hidden dimension; D_out is output dimension.\n",
        "N, D_in, H, D_out = 64, 1000, 100, 10\n",
        "\n",
        "# Create random input and output data\n",
        "x = torch.randn(N, D_in, device=device, dtype=dtype)\n",
        "y = torch.randn(N, D_out, device=device, dtype=dtype)\n",
        "\n",
        "# Randomly initialize weights\n",
        "w1 = torch.randn(D_in, H, device=device, dtype=dtype)\n",
        "w2 = torch.randn(H, D_out, device=device, dtype=dtype)\n",
        "\n",
        "learning_rate = 1e-6\n",
        "for t in range(500):\n",
        "    # Forward pass: compute predicted y\n",
        "    h = x.mm(w1)\n",
        "    h_relu = h.clamp(min=0)\n",
        "    y_pred = h_relu.mm(w2)\n",
        "\n",
        "    # Compute and print loss\n",
        "    loss = (y_pred - y).pow(2).sum().item()\n",
        "    print(t, loss)\n",
        "\n",
        "    # Backprop to compute gradients of w1 and w2 with respect to loss\n",
        "    grad_y_pred = 2*(y_pred - y)\n",
        "    grad_w2 = h_relu.t().mm(grad_y_pred)\n",
        "    grad_h_relu = grad_y_pred.mm(w2.t())\n",
        "    grad_h = grad_h_relu.clone()\n",
        "    grad_h[h < 0] = 0\n",
        "    grad_w1 = x.t().mm(grad_h)\n",
        "\n",
        "    # Update weights using gradient descent\n",
        "    w1 -= learning_rate * grad_w1\n",
        "    w2 -= learning_rate * grad_w2"
      ],
      "execution_count": 28,
      "outputs": [
        {
          "output_type": "stream",
          "text": [
            "0 31706954.0\n",
            "1 32448328.0\n",
            "2 37091144.0\n",
            "3 38881340.0\n",
            "4 33168810.0\n",
            "5 21391224.0\n",
            "6 11007057.0\n",
            "7 5153555.0\n",
            "8 2646400.75\n",
            "9 1622874.875\n",
            "10 1166407.5\n",
            "11 921533.75\n",
            "12 764003.375\n",
            "13 648096.3125\n",
            "14 556625.6875\n",
            "15 481882.875\n",
            "16 419597.125\n",
            "17 367177.5625\n",
            "18 322694.9375\n",
            "19 284653.4375\n",
            "20 252003.6875\n",
            "21 223858.484375\n",
            "22 199445.1875\n",
            "23 178196.34375\n",
            "24 159651.046875\n",
            "25 143390.765625\n",
            "26 129107.5625\n",
            "27 116514.3359375\n",
            "28 105361.5234375\n",
            "29 95466.6640625\n",
            "30 86663.1171875\n",
            "31 78821.890625\n",
            "32 71818.6796875\n",
            "33 65549.28125\n",
            "34 59931.1640625\n",
            "35 54880.3046875\n",
            "36 50333.5234375\n",
            "37 46227.13671875\n",
            "38 42516.9140625\n",
            "39 39155.8125\n",
            "40 36104.9921875\n",
            "41 33330.9375\n",
            "42 30807.744140625\n",
            "43 28507.681640625\n",
            "44 26407.734375\n",
            "45 24488.47265625\n",
            "46 22730.140625\n",
            "47 21117.455078125\n",
            "48 19637.0234375\n",
            "49 18276.05859375\n",
            "50 17024.2421875\n",
            "51 15871.9580078125\n",
            "52 14811.46875\n",
            "53 13831.7529296875\n",
            "54 12925.9951171875\n",
            "55 12088.044921875\n",
            "56 11311.998046875\n",
            "57 10592.98046875\n",
            "58 9925.1484375\n",
            "59 9305.0\n",
            "60 8728.4443359375\n",
            "61 8192.2509765625\n",
            "62 7693.62646484375\n",
            "63 7229.2255859375\n",
            "64 6796.48486328125\n",
            "65 6392.400390625\n",
            "66 6015.1650390625\n",
            "67 5662.71826171875\n",
            "68 5333.3203125\n",
            "69 5025.2578125\n",
            "70 4736.70654296875\n",
            "71 4466.623046875\n",
            "72 4213.400390625\n",
            "73 3975.9130859375\n",
            "74 3753.21484375\n",
            "75 3544.12451171875\n",
            "76 3347.790283203125\n",
            "77 3163.427978515625\n",
            "78 2990.28857421875\n",
            "79 2827.4228515625\n",
            "80 2674.227294921875\n",
            "81 2529.934326171875\n",
            "82 2394.060302734375\n",
            "83 2266.201416015625\n",
            "84 2145.7021484375\n",
            "85 2032.201904296875\n",
            "86 1925.15869140625\n",
            "87 1824.144287109375\n",
            "88 1728.82080078125\n",
            "89 1638.869384765625\n",
            "90 1553.9239501953125\n",
            "91 1473.8236083984375\n",
            "92 1398.030029296875\n",
            "93 1326.424072265625\n",
            "94 1258.7095947265625\n",
            "95 1194.67822265625\n",
            "96 1134.1304931640625\n",
            "97 1076.867431640625\n",
            "98 1022.6820068359375\n",
            "99 971.3760986328125\n",
            "100 922.8006591796875\n",
            "101 876.8306274414062\n",
            "102 833.3076171875\n",
            "103 792.0303955078125\n",
            "104 752.9078369140625\n",
            "105 715.8289184570312\n",
            "106 680.6686401367188\n",
            "107 647.3334350585938\n",
            "108 615.7161254882812\n",
            "109 585.72900390625\n",
            "110 557.2841186523438\n",
            "111 530.294921875\n",
            "112 504.68487548828125\n",
            "113 480.3698425292969\n",
            "114 457.26629638671875\n",
            "115 435.33795166015625\n",
            "116 414.50225830078125\n",
            "117 394.7081298828125\n",
            "118 375.9087219238281\n",
            "119 358.04827880859375\n",
            "120 341.06414794921875\n",
            "121 324.92340087890625\n",
            "122 309.5831604003906\n",
            "123 295.0287780761719\n",
            "124 281.1531066894531\n",
            "125 267.95880126953125\n",
            "126 255.4116973876953\n",
            "127 243.48114013671875\n",
            "128 232.1273193359375\n",
            "129 221.31744384765625\n",
            "130 211.03411865234375\n",
            "131 201.2474822998047\n",
            "132 191.92959594726562\n",
            "133 183.07278442382812\n",
            "134 174.636474609375\n",
            "135 166.5977325439453\n",
            "136 158.94039916992188\n",
            "137 151.64796447753906\n",
            "138 144.70211791992188\n",
            "139 138.0859832763672\n",
            "140 131.7820281982422\n",
            "141 125.77552795410156\n",
            "142 120.05244445800781\n",
            "143 114.60533142089844\n",
            "144 109.41263580322266\n",
            "145 104.4590072631836\n",
            "146 99.73591613769531\n",
            "147 95.23199462890625\n",
            "148 90.93736267089844\n",
            "149 86.84446716308594\n",
            "150 82.94173431396484\n",
            "151 79.21786499023438\n",
            "152 75.6662826538086\n",
            "153 72.28204345703125\n",
            "154 69.05644226074219\n",
            "155 65.97274017333984\n",
            "156 63.03215789794922\n",
            "157 60.22737121582031\n",
            "158 57.549346923828125\n",
            "159 54.993778228759766\n",
            "160 52.555076599121094\n",
            "161 50.2274169921875\n",
            "162 48.00554656982422\n",
            "163 45.884498596191406\n",
            "164 43.863712310791016\n",
            "165 41.93060302734375\n",
            "166 40.084938049316406\n",
            "167 38.32234191894531\n",
            "168 36.639678955078125\n",
            "169 35.033226013183594\n",
            "170 33.498287200927734\n",
            "171 32.03190231323242\n",
            "172 30.630645751953125\n",
            "173 29.293420791625977\n",
            "174 28.01836395263672\n",
            "175 26.797821044921875\n",
            "176 25.630615234375\n",
            "177 24.517080307006836\n",
            "178 23.451736450195312\n",
            "179 22.434144973754883\n",
            "180 21.461772918701172\n",
            "181 20.532161712646484\n",
            "182 19.64403533935547\n",
            "183 18.79473114013672\n",
            "184 17.984893798828125\n",
            "185 17.209590911865234\n",
            "186 16.46788787841797\n",
            "187 15.759119033813477\n",
            "188 15.080669403076172\n",
            "189 14.433520317077637\n",
            "190 13.81393814086914\n",
            "191 13.221193313598633\n",
            "192 12.65446949005127\n",
            "193 12.113153457641602\n",
            "194 11.595346450805664\n",
            "195 11.100127220153809\n",
            "196 10.626300811767578\n",
            "197 10.173201560974121\n",
            "198 9.739459037780762\n",
            "199 9.324397087097168\n",
            "200 8.927543640136719\n",
            "201 8.547900199890137\n",
            "202 8.184831619262695\n",
            "203 7.837417125701904\n",
            "204 7.505223751068115\n",
            "205 7.187661170959473\n",
            "206 6.883297920227051\n",
            "207 6.5919904708862305\n",
            "208 6.313231468200684\n",
            "209 6.046319007873535\n",
            "210 5.790682792663574\n",
            "211 5.546067714691162\n",
            "212 5.311883449554443\n",
            "213 5.088226318359375\n",
            "214 4.873815536499023\n",
            "215 4.668643951416016\n",
            "216 4.472190856933594\n",
            "217 4.284304141998291\n",
            "218 4.10410213470459\n",
            "219 3.931966543197632\n",
            "220 3.7667324542999268\n",
            "221 3.6090023517608643\n",
            "222 3.457709789276123\n",
            "223 3.3128201961517334\n",
            "224 3.1741955280303955\n",
            "225 3.041735887527466\n",
            "226 2.9145781993865967\n",
            "227 2.792755126953125\n",
            "228 2.676248073577881\n",
            "229 2.5645394325256348\n",
            "230 2.4575886726379395\n",
            "231 2.3551783561706543\n",
            "232 2.257312536239624\n",
            "233 2.163139581680298\n",
            "234 2.073254346847534\n",
            "235 1.987061858177185\n",
            "236 1.904707431793213\n",
            "237 1.8255130052566528\n",
            "238 1.749868631362915\n",
            "239 1.6772394180297852\n",
            "240 1.607789158821106\n",
            "241 1.5411525964736938\n",
            "242 1.4773517847061157\n",
            "243 1.4162497520446777\n",
            "244 1.3576147556304932\n",
            "245 1.301486849784851\n",
            "246 1.2477701902389526\n",
            "247 1.1964126825332642\n",
            "248 1.146887183189392\n",
            "249 1.099579095840454\n",
            "250 1.0543248653411865\n",
            "251 1.0108109712600708\n",
            "252 0.9691829681396484\n",
            "253 0.9292638301849365\n",
            "254 0.8910344243049622\n",
            "255 0.8544522523880005\n",
            "256 0.8192697763442993\n",
            "257 0.7857456207275391\n",
            "258 0.7534813284873962\n",
            "259 0.7226378917694092\n",
            "260 0.6929987668991089\n",
            "261 0.6644781231880188\n",
            "262 0.6372774839401245\n",
            "263 0.6111955642700195\n",
            "264 0.5860987901687622\n",
            "265 0.5621616244316101\n",
            "266 0.5391408205032349\n",
            "267 0.5170101523399353\n",
            "268 0.4960210919380188\n",
            "269 0.4757373034954071\n",
            "270 0.456360787153244\n",
            "271 0.43766188621520996\n",
            "272 0.4198552370071411\n",
            "273 0.40269970893859863\n",
            "274 0.38627558946609497\n",
            "275 0.3705843687057495\n",
            "276 0.35548317432403564\n",
            "277 0.34101366996765137\n",
            "278 0.32711970806121826\n",
            "279 0.31386837363243103\n",
            "280 0.30107349157333374\n",
            "281 0.2888549268245697\n",
            "282 0.2771432399749756\n",
            "283 0.26588261127471924\n",
            "284 0.25504064559936523\n",
            "285 0.24474778771400452\n",
            "286 0.23479095101356506\n",
            "287 0.22524067759513855\n",
            "288 0.2161259800195694\n",
            "289 0.20741131901741028\n",
            "290 0.19902312755584717\n",
            "291 0.19097164273262024\n",
            "292 0.18323203921318054\n",
            "293 0.1758263111114502\n",
            "294 0.1687180995941162\n",
            "295 0.16191720962524414\n",
            "296 0.15538984537124634\n",
            "297 0.1491037905216217\n",
            "298 0.14309881627559662\n",
            "299 0.13730080425739288\n",
            "300 0.13177955150604248\n",
            "301 0.1264471560716629\n",
            "302 0.12137109041213989\n",
            "303 0.11649563908576965\n",
            "304 0.11180255562067032\n",
            "305 0.10731256008148193\n",
            "306 0.10296700894832611\n",
            "307 0.09882324934005737\n",
            "308 0.09483622014522552\n",
            "309 0.09104348719120026\n",
            "310 0.08740784227848053\n",
            "311 0.08387523889541626\n",
            "312 0.08050969243049622\n",
            "313 0.07726898789405823\n",
            "314 0.07418029010295868\n",
            "315 0.07119982689619064\n",
            "316 0.06836232542991638\n",
            "317 0.06560911238193512\n",
            "318 0.06299450248479843\n",
            "319 0.06047078222036362\n",
            "320 0.05804257094860077\n",
            "321 0.055750638246536255\n",
            "322 0.05352131277322769\n",
            "323 0.05138638615608215\n",
            "324 0.04933132603764534\n",
            "325 0.04737536981701851\n",
            "326 0.04547427222132683\n",
            "327 0.0436699241399765\n",
            "328 0.041919734328985214\n",
            "329 0.04026138782501221\n",
            "330 0.03866790980100632\n",
            "331 0.03712456673383713\n",
            "332 0.03563429415225983\n",
            "333 0.034228116273880005\n",
            "334 0.032868642359972\n",
            "335 0.0315624438226223\n",
            "336 0.03031057119369507\n",
            "337 0.02910783141851425\n",
            "338 0.027953919023275375\n",
            "339 0.026849323883652687\n",
            "340 0.025785518810153008\n",
            "341 0.024777177721261978\n",
            "342 0.02379775233566761\n",
            "343 0.022858738899230957\n",
            "344 0.021966518834233284\n",
            "345 0.02109936811029911\n",
            "346 0.020269883796572685\n",
            "347 0.01947859674692154\n",
            "348 0.018704853951931\n",
            "349 0.01798686385154724\n",
            "350 0.01727309636771679\n",
            "351 0.016599657014012337\n",
            "352 0.015954449772834778\n",
            "353 0.015330076217651367\n",
            "354 0.014735499396920204\n",
            "355 0.01416320726275444\n",
            "356 0.013610003516077995\n",
            "357 0.013078710064291954\n",
            "358 0.012569969519972801\n",
            "359 0.012084189802408218\n",
            "360 0.011621837504208088\n",
            "361 0.01116732694208622\n",
            "362 0.010738561861217022\n",
            "363 0.010325794108211994\n",
            "364 0.00992592517286539\n",
            "365 0.009552947245538235\n",
            "366 0.009192354045808315\n",
            "367 0.00884181633591652\n",
            "368 0.008508861064910889\n",
            "369 0.008185743354260921\n",
            "370 0.007882537320256233\n",
            "371 0.007585222367197275\n",
            "372 0.007298604119569063\n",
            "373 0.007027429528534412\n",
            "374 0.006761606317013502\n",
            "375 0.006510585080832243\n",
            "376 0.006267494987696409\n",
            "377 0.006034906953573227\n",
            "378 0.005811547394841909\n",
            "379 0.005598634481430054\n",
            "380 0.005389088299125433\n",
            "381 0.005192647688090801\n",
            "382 0.005004831124097109\n",
            "383 0.004819599911570549\n",
            "384 0.004650060553103685\n",
            "385 0.004481943789869547\n",
            "386 0.004323658533394337\n",
            "387 0.00416977284476161\n",
            "388 0.004017197992652655\n",
            "389 0.0038732257671654224\n",
            "390 0.003738005179911852\n",
            "391 0.003602169919759035\n",
            "392 0.0034764884039759636\n",
            "393 0.0033540441654622555\n",
            "394 0.003238257020711899\n",
            "395 0.0031257346272468567\n",
            "396 0.0030162977054715157\n",
            "397 0.002913977485150099\n",
            "398 0.0028121278155595064\n",
            "399 0.002717392984777689\n",
            "400 0.0026209100615233183\n",
            "401 0.002538068452849984\n",
            "402 0.002452098997309804\n",
            "403 0.0023710173554718494\n",
            "404 0.0022920481860637665\n",
            "405 0.0022155391052365303\n",
            "406 0.0021419606637209654\n",
            "407 0.002072066767141223\n",
            "408 0.0020041391253471375\n",
            "409 0.0019397013820707798\n",
            "410 0.0018778289668262005\n",
            "411 0.0018168049864470959\n",
            "412 0.0017590667121112347\n",
            "413 0.001702031004242599\n",
            "414 0.001647555036470294\n",
            "415 0.0015976227587088943\n",
            "416 0.0015481978189200163\n",
            "417 0.0015014094533398747\n",
            "418 0.0014564812881872058\n",
            "419 0.0014124478911980987\n",
            "420 0.0013694604858756065\n",
            "421 0.0013302857987582684\n",
            "422 0.0012909795623272657\n",
            "423 0.0012520486488938332\n",
            "424 0.0012134839780628681\n",
            "425 0.0011781961657106876\n",
            "426 0.0011439980007708073\n",
            "427 0.0011092250933870673\n",
            "428 0.0010793210240080953\n",
            "429 0.0010481956414878368\n",
            "430 0.0010181086836382747\n",
            "431 0.0009890947258099914\n",
            "432 0.000961081706918776\n",
            "433 0.000935835181735456\n",
            "434 0.0009094651322811842\n",
            "435 0.0008838084759190679\n",
            "436 0.0008603429887443781\n",
            "437 0.0008365025860257447\n",
            "438 0.0008130274945870042\n",
            "439 0.0007919236086308956\n",
            "440 0.0007706411415711045\n",
            "441 0.0007504025124944746\n",
            "442 0.000730447587557137\n",
            "443 0.0007115042535588145\n",
            "444 0.0006922491011209786\n",
            "445 0.0006751033943146467\n",
            "446 0.0006573330610990524\n",
            "447 0.0006414896342903376\n",
            "448 0.0006247430574148893\n",
            "449 0.0006098390440456569\n",
            "450 0.0005952768260613084\n",
            "451 0.000579221174120903\n",
            "452 0.0005650541861541569\n",
            "453 0.0005517496610991657\n",
            "454 0.0005376244662329555\n",
            "455 0.0005248690722510219\n",
            "456 0.0005130667705088854\n",
            "457 0.0005002942634746432\n",
            "458 0.0004883434739895165\n",
            "459 0.00047733838437125087\n",
            "460 0.00046613800805062056\n",
            "461 0.0004547148710116744\n",
            "462 0.00044537626672536135\n",
            "463 0.0004343695181887597\n",
            "464 0.0004244661540724337\n",
            "465 0.0004156074137426913\n",
            "466 0.00040545640513300896\n",
            "467 0.0003969649551436305\n",
            "468 0.0003877506242133677\n",
            "469 0.0003787330642808229\n",
            "470 0.0003710089367814362\n",
            "471 0.00036366021959111094\n",
            "472 0.0003551612899173051\n",
            "473 0.00034784668241627514\n",
            "474 0.0003405623428989202\n",
            "475 0.000333336996845901\n",
            "476 0.0003266019048169255\n",
            "477 0.00031899503665044904\n",
            "478 0.0003121813933830708\n",
            "479 0.0003057030262425542\n",
            "480 0.00029918807558715343\n",
            "481 0.0002927836321759969\n",
            "482 0.0002871833276003599\n",
            "483 0.0002824008115567267\n",
            "484 0.00027569790836423635\n",
            "485 0.000270362215815112\n",
            "486 0.0002651271061040461\n",
            "487 0.00026015189359895885\n",
            "488 0.0002553207450546324\n",
            "489 0.0002506188757251948\n",
            "490 0.0002457475056871772\n",
            "491 0.00024143877089954913\n",
            "492 0.00023654362303204834\n",
            "493 0.00023151964705903083\n",
            "494 0.00022703377180732787\n",
            "495 0.00022245623404160142\n",
            "496 0.00021824793657287955\n",
            "497 0.00021430513879749924\n",
            "498 0.00021064562315586954\n",
            "499 0.00020662666065618396\n"
          ],
          "name": "stdout"
        }
      ]
    },
    {
      "cell_type": "markdown",
      "metadata": {
        "id": "ycwxAPHZLNST",
        "colab_type": "text"
      },
      "source": [
        "\n",
        "\n",
        "---\n",
        "## Question 12\n",
        "\n",
        "In the code above, why do we have 2 in '2.0*(y_pred - y)`?\n",
        "\n",
        "## Question 13\n",
        "In the code above, what does `grad_h[h < 0] = 0` signify?\n",
        "\n",
        "## Question 14\n",
        "In the code above, how many \"epochs\" have we trained the model for? \n",
        "\n",
        "## Question 15\n",
        "In the code above, if we take the trained model, and run it on fresh  inputs, the trained model will be able to predict fresh output with high accuracy. \n",
        "\n",
        "## Question 16\n",
        "In the code above, if we dont use clone in `grad_h = grad_h_relu.clone()` the model will still train without any issues. "
      ]
    },
    {
      "cell_type": "markdown",
      "metadata": {
        "id": "WvmxVvl_AqoE",
        "colab_type": "text"
      },
      "source": [
        "**Solution 13**: grad_h[h < 0] = 0 signifies derivative of ReLU function."
      ]
    },
    {
      "cell_type": "markdown",
      "metadata": {
        "id": "kF38y7f0BEvy",
        "colab_type": "text"
      },
      "source": [
        "**Solution 14**: We have trained the model for 500 epochs."
      ]
    },
    {
      "cell_type": "code",
      "metadata": {
        "id": "gwyVZhgkBUbi",
        "colab_type": "code",
        "colab": {
          "base_uri": "https://localhost:8080/",
          "height": 1000
        },
        "outputId": "ee547650-82d5-4897-fb32-0dec91855662"
      },
      "source": [
        "dtype = torch.float\n",
        "device = torch.device(\"cpu\")\n",
        "# device = torch.device(\"cuda:0\") # Uncomment this to run on GPU\n",
        "\n",
        "# N is batch size; D_in is input dimension;\n",
        "# H is hidden dimension; D_out is output dimension.\n",
        "N, D_in, H, D_out = 64, 1000, 100, 10\n",
        "\n",
        "# Create random input and output data\n",
        "x = torch.randn(N, D_in, device=device, dtype=dtype)\n",
        "y = torch.randn(N, D_out, device=device, dtype=dtype)\n",
        "\n",
        "# Randomly initialize weights\n",
        "w1 = torch.randn(D_in, H, device=device, dtype=dtype)\n",
        "w2 = torch.randn(H, D_out, device=device, dtype=dtype)\n",
        "\n",
        "learning_rate = 1e-6\n",
        "for t in range(500):\n",
        "    # Forward pass: compute predicted y\n",
        "    h = x.mm(w1)\n",
        "    h_relu = h.clamp(min=0)\n",
        "    y_pred = h_relu.mm(w2)\n",
        "\n",
        "    # Compute and print loss\n",
        "    loss = (y_pred - y).pow(2).sum().item()\n",
        "    print(t, loss)\n",
        "\n",
        "    # Backprop to compute gradients of w1 and w2 with respect to loss\n",
        "    grad_y_pred = 2*(y_pred - y)\n",
        "    grad_w2 = h_relu.t().mm(grad_y_pred)\n",
        "    grad_h_relu = grad_y_pred.mm(w2.t())\n",
        "    #grad_h = grad_h_relu.clone()\n",
        "    grad_h[h < 0] = 0\n",
        "    grad_w1 = x.t().mm(grad_h)\n",
        "\n",
        "    # Update weights using gradient descent\n",
        "    w1 -= learning_rate * grad_w1\n",
        "    w2 -= learning_rate * grad_w2"
      ],
      "execution_count": 31,
      "outputs": [
        {
          "output_type": "stream",
          "text": [
            "0 31436230.0\n",
            "1 29709830.0\n",
            "2 29677784.0\n",
            "3 31154564.0\n",
            "4 34085880.0\n",
            "5 38523464.0\n",
            "6 44612420.0\n",
            "7 52587816.0\n",
            "8 62778476.0\n",
            "9 75617128.0\n",
            "10 91656336.0\n",
            "11 111590768.0\n",
            "12 136286048.0\n",
            "13 166815552.0\n",
            "14 204506496.0\n",
            "15 250997024.0\n",
            "16 308307328.0\n",
            "17 378926752.0\n",
            "18 465922016.0\n",
            "19 573070144.0\n",
            "20 705022016.0\n",
            "21 867504576.0\n",
            "22 1067568576.0\n",
            "23 1313895168.0\n",
            "24 1617171968.0\n",
            "25 1990556672.0\n",
            "26 2450248704.0\n",
            "27 3016189952.0\n",
            "28 3712932864.0\n",
            "29 4570701312.0\n",
            "30 5626705920.0\n",
            "31 6926756352.0\n",
            "32 8527248384.0\n",
            "33 10497607680.0\n",
            "34 12923309056.0\n",
            "35 15909573632.0\n",
            "36 19585943552.0\n",
            "37 24111890432.0\n",
            "38 29683750912.0\n",
            "39 36543217664.0\n",
            "40 44987834368.0\n",
            "41 55383928832.0\n",
            "42 68182458368.0\n",
            "43 83938598912.0\n",
            "44 103335837696.0\n",
            "45 127215583232.0\n",
            "46 156613705728.0\n",
            "47 192805437440.0\n",
            "48 237360676864.0\n",
            "49 292212211712.0\n",
            "50 359739359232.0\n",
            "51 442871316480.0\n",
            "52 545214234624.0\n",
            "53 671207587840.0\n",
            "54 826316816384.0\n",
            "55 1017270108160.0\n",
            "56 1252350623744.0\n",
            "57 1541756026880.0\n",
            "58 1898039869440.0\n",
            "59 2336657244160.0\n",
            "60 2876634824704.0\n",
            "61 3541395570688.0\n",
            "62 4359775322112.0\n",
            "63 5367275192320.0\n",
            "64 6607596945408.0\n",
            "65 8134545375232.0\n",
            "66 10014354833408.0\n",
            "67 12328569405440.0\n",
            "68 15177575563264.0\n",
            "69 18684957425664.0\n",
            "70 23002859175936.0\n",
            "71 28318583750656.0\n",
            "72 34862713012224.0\n",
            "73 42919130038272.0\n",
            "74 52837300043776.0\n",
            "75 65047455858688.0\n",
            "76 80079245803520.0\n",
            "77 98584749932544.0\n",
            "78 121366665756672.0\n",
            "79 149413238407168.0\n",
            "80 183941101256704.0\n",
            "81 226448006709248.0\n",
            "82 278777804357632.0\n",
            "83 343200501858304.0\n",
            "84 422510562639872.0\n",
            "85 520148423278592.0\n",
            "86 640349357735936.0\n",
            "87 788327422754816.0\n",
            "88 970501816057856.0\n",
            "89 1194774673489920.0\n",
            "90 1470874767065088.0\n",
            "91 1810778747305984.0\n",
            "92 2229231102722048.0\n",
            "93 2744383438848000.0\n",
            "94 3378582067871744.0\n",
            "95 4159337597501440.0\n",
            "96 5120517455478784.0\n",
            "97 6303815842136064.0\n",
            "98 7760562448498688.0\n",
            "99 9553948591521792.0\n",
            "100 1.1761766866354176e+16\n",
            "101 1.447978967498752e+16\n",
            "102 1.7825920312147968e+16\n",
            "103 2.194530719760384e+16\n",
            "104 2.701664137196339e+16\n",
            "105 3.325990676516045e+16\n",
            "106 4.094592468752794e+16\n",
            "107 5.04081027128361e+16\n",
            "108 6.205689153821082e+16\n",
            "109 7.63975897710592e+16\n",
            "110 9.405229335943578e+16\n",
            "111 1.1578680356215194e+17\n",
            "112 1.4254393442015642e+17\n",
            "113 1.7548435789552026e+17\n",
            "114 2.160369752478843e+17\n",
            "115 2.6596085046286746e+17\n",
            "116 3.274216434900664e+17\n",
            "117 4.0308542950866944e+17\n",
            "118 4.96234267907457e+17\n",
            "119 6.10908863918506e+17\n",
            "120 7.520836143043052e+17\n",
            "121 9.258823865147064e+17\n",
            "122 1.1398441881839862e+18\n",
            "123 1.4032503405595853e+18\n",
            "124 1.7275268310383985e+18\n",
            "125 2.1267403990693315e+18\n",
            "126 2.618208215350903e+18\n",
            "127 3.223248848273015e+18\n",
            "128 3.968107777829634e+18\n",
            "129 4.885096627104121e+18\n",
            "130 6.013989954353365e+18\n",
            "131 7.403761656745951e+18\n",
            "132 9.114693558786327e+18\n",
            "133 1.122100544412844e+19\n",
            "134 1.3814063980261409e+19\n",
            "135 1.7006348656950903e+19\n",
            "136 2.0936339665180426e+19\n",
            "137 2.577450968576688e+19\n",
            "138 3.1730731299196895e+19\n",
            "139 3.906337434483504e+19\n",
            "140 4.809051874050389e+19\n",
            "141 5.920373136318005e+19\n",
            "142 7.28851040811782e+19\n",
            "143 8.972810049461368e+19\n",
            "144 1.104633328860041e+20\n",
            "145 1.3599026333952141e+20\n",
            "146 1.6741619682135926e+20\n",
            "147 2.0610433423591342e+20\n",
            "148 2.5373292615135606e+20\n",
            "149 3.1236798130455734e+20\n",
            "150 3.8455294276944685e+20\n",
            "151 4.734191317010004e+20\n",
            "152 5.8282138308964254e+20\n",
            "153 7.175053298583428e+20\n",
            "154 8.833133721768239e+20\n",
            "155 1.087437969756229e+21\n",
            "156 1.3387335513076893e+21\n",
            "157 1.6481008686230227e+21\n",
            "158 2.0289598745356072e+21\n",
            "159 2.4978311798535215e+21\n",
            "160 3.0750541663938774e+21\n",
            "161 3.7856670184975064e+21\n",
            "162 4.660495468238876e+21\n",
            "163 5.73748684607821e+21\n",
            "164 7.063360087174966e+21\n",
            "165 8.695628410570479e+21\n",
            "166 1.0705096846656315e+22\n",
            "167 1.317893425507009e+22\n",
            "168 1.6224448467083115e+22\n",
            "169 1.9973750325964488e+22\n",
            "170 2.4589473821457813e+22\n",
            "171 3.027184336349645e+22\n",
            "172 3.7267347715085824e+22\n",
            "173 4.587943941911816e+22\n",
            "174 5.648170557548273e+22\n",
            "175 6.95340380155279e+22\n",
            "176 8.560262027720744e+22\n",
            "177 1.0538450149644725e+23\n",
            "178 1.2973775251025022e+23\n",
            "179 1.597187736760094e+23\n",
            "180 1.9662813250851537e+23\n",
            "181 2.420668406608998e+23\n",
            "182 2.980059795748747e+23\n",
            "183 3.6687205270087025e+23\n",
            "184 4.5165235171491686e+23\n",
            "185 5.5602449805832675e+23\n",
            "186 6.84515942422097e+23\n",
            "187 8.427004477914523e+23\n",
            "188 1.0374397706162485e+24\n",
            "189 1.2771812226455518e+24\n",
            "190 1.572324372023698e+24\n",
            "191 1.9356721958865644e+24\n",
            "192 2.3829857076628785e+24\n",
            "193 2.933669296851114e+24\n",
            "194 3.6116090470685275e+24\n",
            "195 4.4462138241698186e+24\n",
            "196 5.473686804551523e+24\n",
            "197 6.738599068890613e+24\n",
            "198 8.295817863360952e+24\n",
            "199 1.0212895741221217e+25\n",
            "200 1.2572987165991177e+25\n",
            "201 1.547847387312293e+25\n",
            "202 1.9055385171049561e+25\n",
            "203 2.345888815339009e+25\n",
            "204 2.8879987325812734e+25\n",
            "205 3.5553853310984187e+25\n",
            "206 4.37699777811822e+25\n",
            "207 5.388475644359686e+25\n",
            "208 6.6336963552765425e+25\n",
            "209 8.16667428335962e+25\n",
            "210 1.005390717398303e+26\n",
            "211 1.2377258910334286e+26\n",
            "212 1.5237513278660098e+26\n",
            "213 1.8758744924274645e+26\n",
            "214 2.3093691043433835e+26\n",
            "215 2.843040235691108e+26\n",
            "216 3.500036890076177e+26\n",
            "217 4.308858364755268e+26\n",
            "218 5.304590366956577e+26\n",
            "219 6.530425578993813e+26\n",
            "220 8.03953821639897e+26\n",
            "221 9.897390977736183e+26\n",
            "222 1.2184573260644912e+27\n",
            "223 1.500030198493025e+27\n",
            "224 1.8466713780973987e+27\n",
            "225 2.2734173224809273e+27\n",
            "226 2.798780446126223e+27\n",
            "227 3.4455495615140406e+27\n",
            "228 4.2417795100493464e+27\n",
            "229 5.222010565631564e+27\n",
            "230 6.428761735480832e+27\n",
            "231 7.91438045205976e+27\n",
            "232 9.743311079872638e+27\n",
            "233 1.1994887604944245e+28\n",
            "234 1.4766779781760724e+28\n",
            "235 1.817922673482147e+28\n",
            "236 2.238025340271527e+28\n",
            "237 2.755209472742445e+28\n",
            "238 3.3919089089900967e+28\n",
            "239 4.175744062217815e+28\n",
            "240 5.140713846037343e+28\n",
            "241 6.3286784975444585e+28\n",
            "242 7.791169424273532e+28\n",
            "243 9.591625953082137e+28\n",
            "244 1.1808150830993807e+29\n",
            "245 1.4536889078416526e+29\n",
            "246 1.78962124780832e+29\n",
            "247 2.2031838148082445e+29\n",
            "248 2.712316501320529e+29\n",
            "249 3.3391044931229394e+29\n",
            "250 4.110735776319972e+29\n",
            "251 5.060683617910162e+29\n",
            "252 6.2301542544550745e+29\n",
            "253 7.669877235660288e+29\n",
            "254 9.44230453599914e+29\n",
            "255 1.1624321948652525e+30\n",
            "256 1.4310579298352623e+30\n",
            "257 1.7617603433694814e+30\n",
            "258 2.168884549243457e+30\n",
            "259 2.670090686945847e+30\n",
            "260 3.2871206828795103e+30\n",
            "261 4.046739247996351e+30\n",
            "262 4.981897771130149e+30\n",
            "263 6.133161758158074e+30\n",
            "264 7.550470725762587e+30\n",
            "265 9.295304294268734e+30\n",
            "266 1.1443350891390948e+31\n",
            "267 1.4087787870213118e+31\n",
            "268 1.7343328388369745e+31\n",
            "269 2.1351187070850015e+31\n",
            "270 2.6285219539772707e+31\n",
            "271 3.2359457649019854e+31\n",
            "272 3.9837379527421548e+31\n",
            "273 4.90433834937099e+31\n",
            "274 6.037678741751017e+31\n",
            "275 7.432922274403342e+31\n",
            "276 9.150591642420494e+31\n",
            "277 1.1265196329057619e+32\n",
            "278 1.3868463339092812e+32\n",
            "279 1.7073316982625293e+32\n",
            "280 2.1018780827488776e+32\n",
            "281 2.587599911697381e+32\n",
            "282 3.1855665377204145e+32\n",
            "283 3.921717446916154e+32\n",
            "284 4.827985496026097e+32\n",
            "285 5.943681664425882e+32\n",
            "286 7.317202831095108e+32\n",
            "287 9.008129889555795e+32\n",
            "288 1.1089814268841961e+33\n",
            "289 1.3652552089131607e+33\n",
            "290 1.6807511913377608e+33\n",
            "291 2.0691551881485587e+33\n",
            "292 2.5473149443102087e+33\n",
            "293 3.135972609408452e+33\n",
            "294 3.860661779951084e+33\n",
            "295 4.752820097978262e+33\n",
            "296 5.851146497573077e+33\n",
            "297 7.203284029602455e+33\n",
            "298 8.867886293127738e+33\n",
            "299 1.0917159235790344e+34\n",
            "300 1.3440000569751395e+34\n",
            "301 1.6545839861693582e+34\n",
            "302 2.036940707785249e+34\n",
            "303 2.5076557710871455e+34\n",
            "304 3.0871483780530406e+34\n",
            "305 3.8005556439446474e+34\n",
            "306 4.678823593864022e+34\n",
            "307 5.760049832520172e+34\n",
            "308 7.091135451417478e+34\n",
            "309 8.729821440220322e+34\n",
            "310 1.0747189325632437e+35\n",
            "311 1.3230751564910987e+35\n",
            "312 1.628823667133068e+35\n",
            "313 2.0052275559996487e+35\n",
            "314 2.4686140637865774e+35\n",
            "315 3.0390843656757543e+35\n",
            "316 3.741383991735666e+35\n",
            "317 4.605978349227516e+35\n",
            "318 5.670370286947838e+35\n",
            "319 6.98073318572832e+35\n",
            "320 8.593904933215882e+35\n",
            "321 1.0579864200092062e+36\n",
            "322 1.3024758144303494e+36\n",
            "323 1.6034640791910147e+36\n",
            "324 1.9740075401045778e+36\n",
            "325 2.4301795314129576e+36\n",
            "326 2.9917679205293916e+36\n",
            "327 3.683133465951116e+36\n",
            "328 4.534266404034655e+36\n",
            "329 5.582087375424306e+36\n",
            "330 6.872048626216552e+36\n",
            "331 8.460105521556068e+36\n",
            "332 1.0415145364185756e+37\n",
            "333 1.2821972711610284e+37\n",
            "334 1.578499443639095e+37\n",
            "335 1.9432738900535495e+37\n",
            "336 2.3923436787265606e+37\n",
            "337 2.9451886696667755e+37\n",
            "338 3.625790023399192e+37\n",
            "339 4.463671068873005e+37\n",
            "340 5.495177630567839e+37\n",
            "341 6.765054225250069e+37\n",
            "342 8.328386356222493e+37\n",
            "343 1.025298724587444e+38\n",
            "344 1.2622343855676703e+38\n",
            "345 1.5539231211572903e+38\n",
            "346 1.913018011175494e+38\n",
            "347 2.3550962504340305e+38\n",
            "348 2.8993335388565276e+38\n",
            "349 inf\n",
            "350 inf\n",
            "351 inf\n",
            "352 inf\n",
            "353 inf\n",
            "354 inf\n",
            "355 inf\n",
            "356 inf\n",
            "357 inf\n",
            "358 inf\n",
            "359 inf\n",
            "360 inf\n",
            "361 inf\n",
            "362 inf\n",
            "363 inf\n",
            "364 inf\n",
            "365 inf\n",
            "366 inf\n",
            "367 inf\n",
            "368 inf\n",
            "369 inf\n",
            "370 inf\n",
            "371 inf\n",
            "372 inf\n",
            "373 inf\n",
            "374 inf\n",
            "375 inf\n",
            "376 inf\n",
            "377 inf\n",
            "378 inf\n",
            "379 inf\n",
            "380 inf\n",
            "381 inf\n",
            "382 inf\n",
            "383 inf\n",
            "384 inf\n",
            "385 inf\n",
            "386 inf\n",
            "387 inf\n",
            "388 inf\n",
            "389 inf\n",
            "390 inf\n",
            "391 inf\n",
            "392 inf\n",
            "393 inf\n",
            "394 inf\n",
            "395 inf\n",
            "396 inf\n",
            "397 inf\n",
            "398 inf\n",
            "399 inf\n",
            "400 inf\n",
            "401 inf\n",
            "402 inf\n",
            "403 inf\n",
            "404 inf\n",
            "405 inf\n",
            "406 inf\n",
            "407 inf\n",
            "408 inf\n",
            "409 inf\n",
            "410 inf\n",
            "411 inf\n",
            "412 inf\n",
            "413 inf\n",
            "414 inf\n",
            "415 inf\n",
            "416 inf\n",
            "417 inf\n",
            "418 inf\n",
            "419 inf\n",
            "420 inf\n",
            "421 inf\n",
            "422 inf\n",
            "423 inf\n",
            "424 inf\n",
            "425 inf\n",
            "426 inf\n",
            "427 inf\n",
            "428 inf\n",
            "429 inf\n",
            "430 inf\n",
            "431 inf\n",
            "432 inf\n",
            "433 inf\n",
            "434 inf\n",
            "435 inf\n",
            "436 inf\n",
            "437 inf\n",
            "438 inf\n",
            "439 inf\n",
            "440 inf\n",
            "441 inf\n",
            "442 inf\n",
            "443 inf\n",
            "444 inf\n",
            "445 inf\n",
            "446 inf\n",
            "447 inf\n",
            "448 inf\n",
            "449 inf\n",
            "450 inf\n",
            "451 inf\n",
            "452 inf\n",
            "453 inf\n",
            "454 inf\n",
            "455 inf\n",
            "456 inf\n",
            "457 inf\n",
            "458 inf\n",
            "459 inf\n",
            "460 inf\n",
            "461 inf\n",
            "462 inf\n",
            "463 inf\n",
            "464 inf\n",
            "465 inf\n",
            "466 inf\n",
            "467 inf\n",
            "468 inf\n",
            "469 inf\n",
            "470 inf\n",
            "471 inf\n",
            "472 inf\n",
            "473 inf\n",
            "474 inf\n",
            "475 inf\n",
            "476 inf\n",
            "477 inf\n",
            "478 inf\n",
            "479 inf\n",
            "480 inf\n",
            "481 inf\n",
            "482 inf\n",
            "483 inf\n",
            "484 inf\n",
            "485 inf\n",
            "486 inf\n",
            "487 inf\n",
            "488 inf\n",
            "489 inf\n",
            "490 inf\n",
            "491 inf\n",
            "492 inf\n",
            "493 inf\n",
            "494 inf\n",
            "495 inf\n",
            "496 inf\n",
            "497 inf\n",
            "498 inf\n",
            "499 inf\n"
          ],
          "name": "stdout"
        }
      ]
    },
    {
      "cell_type": "markdown",
      "metadata": {
        "id": "-qm3I5FsBtOD",
        "colab_type": "text"
      },
      "source": [
        "**Solution 16**: True. If we dont use clone in grad_h = grad_h_relu.clone() the model will still train without any issues. "
      ]
    },
    {
      "cell_type": "markdown",
      "metadata": {
        "id": "OtdcQwO2A-fR",
        "colab_type": "text"
      },
      "source": [
        ""
      ]
    }
  ]
}